{
 "cells": [
  {
   "cell_type": "markdown",
   "metadata": {},
   "source": [
    "# Weather Data Analysis for Irish Locations"
   ]
  },
  {
   "cell_type": "markdown",
   "metadata": {},
   "source": [
    "## 1. Introduction"
   ]
  },
  {
   "cell_type": "code",
   "execution_count": 56,
   "metadata": {},
   "outputs": [],
   "source": [
    "import pandas as pd\n",
    "import numpy as np\n",
    "import sqlite3"
   ]
  },
  {
   "cell_type": "markdown",
   "metadata": {},
   "source": [
    "## 2. Data Sources and File Paths"
   ]
  },
  {
   "cell_type": "code",
   "execution_count": 57,
   "metadata": {},
   "outputs": [],
   "source": [
    "# File paths and corresponding locations\n",
    "file_paths = [\n",
    "    'data/cork_airport.csv',\n",
    "    'data/dublin_airport.csv',\n",
    "    'data/knock_airport.csv',\n",
    "    'data/malin_head.csv',\n",
    "    'data/mullingar.csv'\n",
    "]\n",
    "locations = ['Cork', 'Dublin', 'Knock', 'Malin Head', 'Mullingar']"
   ]
  },
  {
   "cell_type": "markdown",
   "metadata": {},
   "source": [
    "## 3. Data Loading and Preparation"
   ]
  },
  {
   "cell_type": "code",
   "execution_count": 58,
   "metadata": {},
   "outputs": [],
   "source": [
    "# Load each file and add the 'Location' column\n",
    "cork_data = pd.read_csv(file_paths[0], skiprows=19) \n",
    "cork_data['Location'] = 'Cork'\n",
    "\n",
    "dublin_data = pd.read_csv(file_paths[1], skiprows=19)\n",
    "dublin_data['Location'] = 'Dublin'\n",
    "\n",
    "knock_data = pd.read_csv(file_paths[2], skiprows=19)\n",
    "knock_data['Location'] = 'Knock'\n",
    "\n",
    "malin_data = pd.read_csv(file_paths[3], skiprows=19)\n",
    "malin_data['Location'] = 'Malin Head'\n",
    "\n",
    "mullingar_data = pd.read_csv(file_paths[4], skiprows=19)\n",
    "mullingar_data['Location'] = 'Mullingar'"
   ]
  },
  {
   "cell_type": "markdown",
   "metadata": {},
   "source": [
    "[Reference: Add column with constant value to pandas dataframe](https://www.geeksforgeeks.org/add-column-with-constant-value-to-pandas-dataframe/)<br/>"
   ]
  },
  {
   "cell_type": "markdown",
   "metadata": {},
   "source": [
    "\n",
    "## 4. Consolidating Data"
   ]
  },
  {
   "cell_type": "markdown",
   "metadata": {},
   "source": [
    "### Column Descriptions\n",
    "\n",
    "- **year**: Year  \n",
    "- **month**: Month  \n",
    "- **rain**: Precipitation Amount (mm)  \n",
    "- **meant**: Mean Air Temperature (°C)  \n",
    "- **maxtp**: Maximum Air Temperature (°C)  \n",
    "- **mintp**: Minimum Air Temperature (°C)  \n",
    "- **mnmax**: Mean Maximum Temperature (°C)  \n",
    "- **mnmin**: Mean Minimum Temperature (°C)  \n",
    "- **gmin**: Grass Minimum Temperature (°C)  \n",
    "- **wdsp**: Mean Wind Speed (knot)  \n",
    "- **mxgt**: Highest Gust (knot)  \n",
    "- **sun**: Sunshine Duration (hours)  \n"
   ]
  },
  {
   "cell_type": "code",
   "execution_count": 59,
   "metadata": {},
   "outputs": [
    {
     "name": "stdout",
     "output_type": "stream",
     "text": [
      "Preview of consolidated data in SQLite:\n",
      "   year  month  meant maxtp mintp  mnmax  mnmin  rain  gmin  wdsp maxgt  \\\n",
      "0  1962      1    5.5  11.6  -3.8    8.2    2.7        -6.3  12.8    70   \n",
      "1  1962      2    5.3  12.3  -2.7    7.9    2.7        -4.4  13.6    57   \n",
      "2  1962      3    4.2  12.2  -5.4    7.5    0.9        -7.2  10.3    63   \n",
      "3  1962      4    7.7  18.8   0.6   11.2    4.1  68.6  -1.3  11.7    62   \n",
      "4  1962      5    9.7  16.1   2.3   13.3    6.2  80.7  -0.7  12.0    45   \n",
      "\n",
      "     sun Location  \n",
      "0            Cork  \n",
      "1            Cork  \n",
      "2            Cork  \n",
      "3  201.1     Cork  \n",
      "4  216.5     Cork  \n"
     ]
    }
   ],
   "source": [
    "\n",
    "# Concatenate all DataFrames\n",
    "all_data = pd.concat([cork_data, dublin_data, knock_data, malin_data, mullingar_data], ignore_index=True)\n",
    "\n",
    "# Save the consolidated data to an SQLite database\n",
    "conn = sqlite3.connect('data/weather_data.db')\n",
    "all_data.to_sql('consolidated_weather', conn, if_exists='replace', index=False)\n",
    "\n",
    "# Confirm the data was stored correctly\n",
    "print(\"Preview of consolidated data in SQLite:\")\n",
    "print(pd.read_sql_query(\"SELECT * FROM consolidated_weather LIMIT 5\", conn))\n"
   ]
  },
  {
   "cell_type": "markdown",
   "metadata": {},
   "source": [
    "[Reference: pandas.concat() function in Python](https://www.geeksforgeeks.org/pandas-concat-function-in-python/)<br/>\n",
    "[Reference: How to write Pandas dataframe to sqlite with Index](https://stackoverflow.com/questions/14431646/how-to-write-pandas-dataframe-to-sqlite-with-index)<br/>\n",
    "[Reference: Accessing SQLite Databases Using Python and Pandas](https://datacarpentry.github.io/python-ecology-lesson/instructor/09-working-with-sql.html)<br/>\n",
    "[Reference: Pandas Read SQL Query or Table with Examples](https://sparkbyexamples.com/pandas/pandas-read-sql-query-or-table/)<br/>\n",
    "[Reference: MySQL LIMIT Clause](https://www.w3schools.com/mysql/mysql_limit.asp)<br/>"
   ]
  },
  {
   "cell_type": "code",
   "execution_count": 60,
   "metadata": {},
   "outputs": [
    {
     "name": "stdout",
     "output_type": "stream",
     "text": [
      "Filtered data preview:\n",
      "   year  month  meant maxtp mintp  mnmax  mnmin   rain  gmin  wdsp maxgt  \\\n",
      "0  2000      1    5.6  12.5  -2.0    8.0    3.1   50.2  -7.0  10.1    48   \n",
      "1  2000      2    6.8  12.7   0.0    9.9    3.7  112.0  -3.6  12.0    50   \n",
      "2  2000      3    8.0  15.7   0.4   11.3    4.7   20.2  -5.2   7.6    38   \n",
      "3  2000      4    7.3  14.4  -1.8   10.6    3.9   50.2  -6.7  10.1    45   \n",
      "4  2000      5   11.7  22.1   4.0   15.6    7.8   70.8   0.0   9.1    38   \n",
      "\n",
      "     sun Location  \n",
      "0   77.1     Cork  \n",
      "1   85.6     Cork  \n",
      "2  122.3     Cork  \n",
      "3  147.0     Cork  \n",
      "4  237.8     Cork  \n"
     ]
    }
   ],
   "source": [
    "\n",
    "# Query to filter data for year >= 2000 and month >= 1\n",
    "query = \"\"\"\n",
    "SELECT * \n",
    "FROM consolidated_weather\n",
    "WHERE year >= 2000 AND month >= 1\n",
    "\"\"\"\n",
    "filtered_data = pd.read_sql_query(query, conn)\n",
    "\n",
    "# Confirm the filtered data\n",
    "print(\"Filtered data preview:\")\n",
    "print(filtered_data.head())\n",
    "\n"
   ]
  },
  {
   "cell_type": "markdown",
   "metadata": {},
   "source": [
    "[Reference: The SQL WHERE Clause](https://www.w3schools.com/sql/sql_where.asp)<br/>\n",
    "[Reference: MySQL AND, OR and NOT Operators](https://www.w3schools.com/mysql/mysql_and_or.asp)<br/>"
   ]
  },
  {
   "cell_type": "markdown",
   "metadata": {},
   "source": [
    "## 6. Handling Missing Values"
   ]
  },
  {
   "cell_type": "code",
   "execution_count": 61,
   "metadata": {},
   "outputs": [
    {
     "name": "stdout",
     "output_type": "stream",
     "text": [
      "Missing values by column and location:\n",
      "            year  month  meant  maxtp  mintp  mnmax  mnmin  rain  gmin  wdsp  \\\n",
      "Location                                                                       \n",
      "Cork           0      0      0      0      0      0      0     0     0     0   \n",
      "Dublin         0      0      0      0      0      0      0     0     1     0   \n",
      "Knock          0      0      0      0      0      0      0     0     0     0   \n",
      "Malin Head     0      0      0      0      0      0      0     0     0     1   \n",
      "Mullingar      0      0      0      0      0      0      0     0     1     0   \n",
      "\n",
      "            maxgt  sun  Location  \n",
      "Location                          \n",
      "Cork            0    0         0  \n",
      "Dublin          0    0         0  \n",
      "Knock           0   55         0  \n",
      "Malin Head      0  166         0  \n",
      "Mullingar       0  214         0  \n"
     ]
    }
   ],
   "source": [
    "\n",
    "# Replace blank fields and '-' with NaN in the filtered data\n",
    "filtered_data.replace([r'^\\s*$'], np.nan, regex=True, inplace=True)\n",
    "\n",
    "# Count and display missing values grouped by location\n",
    "missing_values = filtered_data.isnull().groupby(filtered_data['Location']).sum()\n",
    "print(\"Missing values by column and location:\")\n",
    "print(missing_values)"
   ]
  },
  {
   "cell_type": "markdown",
   "metadata": {},
   "source": [
    "\n",
    "[Reference: Replace values in Pandas dataframe using regex](https://www.geeksforgeeks.org/replace-values-in-pandas-dataframe-using-regex/)<br/>\n",
    "[Reference: Pandas: How to Replace Zero with NaN](https://www.statology.org/pandas-replace-0-with-nan/)<br/>\n",
    "[Reference: A Guide to R Regular Expressions](https://www.datacamp.com/tutorial/regex-r-regular-expressions-guide) <br/>\n",
    "[Reference: Using isnull() and groupby() on a pandas dataframe](https://stackoverflow.com/questions/46106954/using-isnull-and-groupby-on-a-pandas-dataframe)<br/>\n",
    "[Reference: pd.NA vs np.nan for pandas](https://stackoverflow.com/questions/60115806/pd-na-vs-np-nan-for-pandas)<br/>\n",
    "\n"
   ]
  },
  {
   "cell_type": "markdown",
   "metadata": {},
   "source": [
    "### Overview of Missing Data\n",
    "\n",
    "- **Data Collection Gaps for `sun`**:\n",
    "  - No data recorded in **Mullingar** since January 2007.\n",
    "  - No data recorded in **Malin Head** since January 2011.\n",
    "  - No data recorded in **Knock** since January 2020.\n",
    "\n",
    "- **Specific Missing Values**:\n",
    "  - **Dublin**: 1 missing `gmin` value.\n",
    "  - **Mullingar**: 1 missing `gmin` value.\n",
    "  - **Malin Head**: 1 missing `wdsp` value.\n",
    "\n",
    "**Exclusions from Analysis**:\n",
    "  - The `sun` and `gmin` columns will be excluded from the analysis as they are not relevant to the goals of this project.\n",
    "  - One missing `wdsp` value will be dropped, as it is negligible in the overall dataset.\n"
   ]
  },
  {
   "cell_type": "code",
   "execution_count": 62,
   "metadata": {},
   "outputs": [],
   "source": [
    "# Drop rows with missing 'wdsp' values\n",
    "filtered_data.dropna(subset=['wdsp'], inplace=True)"
   ]
  },
  {
   "cell_type": "markdown",
   "metadata": {},
   "source": [
    "[Reference: Pandas: How to Use dropna() with Specific Columns](https://www.statology.org/pandas-dropna-specific-column/)<br/>"
   ]
  },
  {
   "cell_type": "code",
   "execution_count": 63,
   "metadata": {},
   "outputs": [],
   "source": [
    "# Close the SQLite connection\n",
    "conn.close()\n"
   ]
  }
 ],
 "metadata": {
  "kernelspec": {
   "display_name": "base",
   "language": "python",
   "name": "python3"
  },
  "language_info": {
   "codemirror_mode": {
    "name": "ipython",
    "version": 3
   },
   "file_extension": ".py",
   "mimetype": "text/x-python",
   "name": "python",
   "nbconvert_exporter": "python",
   "pygments_lexer": "ipython3",
   "version": "3.11.9"
  }
 },
 "nbformat": 4,
 "nbformat_minor": 2
}
