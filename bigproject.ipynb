{
 "cells": [
  {
   "cell_type": "code",
   "execution_count": 70,
   "metadata": {},
   "outputs": [],
   "source": [
    "import pandas as pd\n",
    "import numpy as np\n",
    "import sqlite3"
   ]
  },
  {
   "cell_type": "code",
   "execution_count": 71,
   "metadata": {},
   "outputs": [
    {
     "name": "stdout",
     "output_type": "stream",
     "text": [
      "   year  month  meant maxtp mintp  mnmax  mnmin  rain gmin  wdsp maxgt    sun  \\\n",
      "0  1962      1    5.5  11.6  -3.8    8.2    2.7       -6.3  12.8    70          \n",
      "1  1962      2    5.3  12.3  -2.7    7.9    2.7       -4.4  13.6    57          \n",
      "2  1962      3    4.2  12.2  -5.4    7.5    0.9       -7.2  10.3    63          \n",
      "3  1962      4    7.7  18.8   0.6   11.2    4.1  68.6 -1.3  11.7    62  201.1   \n",
      "4  1962      5    9.7  16.1   2.3   13.3    6.2  80.7 -0.7  12.0    45  216.5   \n",
      "\n",
      "  Location  \n",
      "0     Cork  \n",
      "1     Cork  \n",
      "2     Cork  \n",
      "3     Cork  \n",
      "4     Cork  \n"
     ]
    }
   ],
   "source": [
    "# File paths and corresponding locations\n",
    "file_paths = [\n",
    "    'data/cork_airport.csv',\n",
    "    'data/dublin_airport.csv',\n",
    "    'data/knock_airport.csv',\n",
    "    'data/malin_head.csv',\n",
    "    'data/mullingar.csv'\n",
    "]\n",
    "locations = ['Cork', 'Dublin', 'Knock', 'Malin Head', 'Mullingar']\n",
    "\n",
    "# Load each file and add the 'Location' column\n",
    "cork_data = pd.read_csv(file_paths[0], skiprows=19) \n",
    "cork_data['Location'] = 'Cork'\n",
    "\n",
    "dublin_data = pd.read_csv(file_paths[1], skiprows=19)\n",
    "dublin_data['Location'] = 'Dublin'\n",
    "\n",
    "knock_data = pd.read_csv(file_paths[2], skiprows=19)\n",
    "knock_data['Location'] = 'Knock'\n",
    "\n",
    "malin_data = pd.read_csv(file_paths[3], skiprows=19)\n",
    "malin_data['Location'] = 'Malin Head'\n",
    "\n",
    "mullingar_data = pd.read_csv(file_paths[4], skiprows=19)\n",
    "mullingar_data['Location'] = 'Mullingar'"
   ]
  },
  {
   "cell_type": "code",
   "execution_count": null,
   "metadata": {},
   "outputs": [],
   "source": [
    "# Concatenate all DataFrames\n",
    "all_data = pd.concat([cork_data, dublin_data, knock_data, malin_data, mullingar_data], ignore_index=True)\n",
    "\n",
    "# Save the consolidated data to a CSV\n",
    "output_file_path = 'data/consolidated_weather_data.csv'\n",
    "all_data.to_csv(output_file_path, index=False)\n",
    "\n",
    "# Preview the first few rows of the consolidated data\n",
    "print(all_data.head())"
   ]
  },
  {
   "cell_type": "code",
   "execution_count": 72,
   "metadata": {},
   "outputs": [
    {
     "name": "stdout",
     "output_type": "stream",
     "text": [
      "     year  month  meant maxtp mintp  mnmax  mnmin   rain gmin  wdsp maxgt  \\\n",
      "456  2000      1    5.6  12.5  -2.0    8.0    3.1   50.2 -7.0  10.1    48   \n",
      "457  2000      2    6.8  12.7   0.0    9.9    3.7  112.0 -3.6  12.0    50   \n",
      "458  2000      3    8.0  15.7   0.4   11.3    4.7   20.2 -5.2   7.6    38   \n",
      "459  2000      4    7.3  14.4  -1.8   10.6    3.9   50.2 -6.7  10.1    45   \n",
      "460  2000      5   11.7  22.1   4.0   15.6    7.8   70.8  0.0   9.1    38   \n",
      "\n",
      "       sun Location  \n",
      "456   77.1     Cork  \n",
      "457   85.6     Cork  \n",
      "458  122.3     Cork  \n",
      "459  147.0     Cork  \n",
      "460  237.8     Cork  \n"
     ]
    }
   ],
   "source": [
    "# Filter the DataFrame for rows where year >= 2024 and month >= 1\n",
    "filtered_data = all_data[(all_data['year'] >= 2000) & (all_data['month'] >= 1)]\n",
    "\n",
    "# Preview the filtered DataFrame\n",
    "print(filtered_data.head())\n",
    "\n",
    "# Optionally, save the filtered DataFrame to a new CSV file\n",
    "filtered_output_file_path = 'data/filtered_weather_data.csv'\n",
    "filtered_data.to_csv(filtered_output_file_path, index=False)"
   ]
  },
  {
   "cell_type": "code",
   "execution_count": 73,
   "metadata": {},
   "outputs": [
    {
     "name": "stdout",
     "output_type": "stream",
     "text": [
      "Missing values by column and location:\n",
      "            year  month  meant  maxtp  mintp  mnmax  mnmin  rain  gmin  wdsp  \\\n",
      "Location                                                                       \n",
      "Cork           0      0      0      0      0      0      0     0     0     0   \n",
      "Dublin         0      0      0      0      0      0      0     0     1     0   \n",
      "Knock          0      0      0      0      0      0      0     0     0     0   \n",
      "Malin Head     0      0      0      0      0      0      0     0     0     1   \n",
      "Mullingar      0      0      0      0      0      0      0     0     1     0   \n",
      "\n",
      "            maxgt  sun  Location  \n",
      "Location                          \n",
      "Cork            0    0         0  \n",
      "Dublin          0    0         0  \n",
      "Knock           0   55         0  \n",
      "Malin Head      0  166         0  \n",
      "Mullingar       0  214         0  \n"
     ]
    }
   ],
   "source": [
    "# Create a copy of the filtered data to avoid the warning\n",
    "filtered_data = filtered_data.copy()\n",
    "\n",
    "# Replace blank values with NaN\n",
    "filtered_data.replace(r'^\\s*$', np.nan, regex=True, inplace=True)\n",
    "\n",
    "# Count missing values for each column, grouped by location\n",
    "missing_values = filtered_data.isnull().groupby(filtered_data['Location']).sum()\n",
    "\n",
    "# Display the result\n",
    "print(\"Missing values by column and location:\")\n",
    "print(missing_values)\n"
   ]
  },
  {
   "cell_type": "markdown",
   "metadata": {},
   "source": [
    "[Reference: Pandas DataFrame copy() Method](https://realpython.com/python-raw-strings/)<br/>\n",
    "[Reference: Replace values in Pandas dataframe using regex](https://www.geeksforgeeks.org/replace-values-in-pandas-dataframe-using-regex/)<br/>\n",
    "[Reference: Pandas: How to Replace Zero with NaN](https://www.statology.org/pandas-replace-0-with-nan/)<br/>\n",
    "[Reference: A Guide to R Regular Expressions](https://www.datacamp.com/tutorial/regex-r-regular-expressions-guide) <br/>\n",
    "[Reference: Using isnull() and groupby() on a pandas dataframe](https://stackoverflow.com/questions/46106954/using-isnull-and-groupby-on-a-pandas-dataframe)\n",
    "\n"
   ]
  }
 ],
 "metadata": {
  "kernelspec": {
   "display_name": "base",
   "language": "python",
   "name": "python3"
  },
  "language_info": {
   "codemirror_mode": {
    "name": "ipython",
    "version": 3
   },
   "file_extension": ".py",
   "mimetype": "text/x-python",
   "name": "python",
   "nbconvert_exporter": "python",
   "pygments_lexer": "ipython3",
   "version": "3.11.9"
  }
 },
 "nbformat": 4,
 "nbformat_minor": 2
}
